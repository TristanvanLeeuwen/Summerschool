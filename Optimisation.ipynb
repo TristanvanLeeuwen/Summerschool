{
 "cells": [
  {
   "cell_type": "markdown",
   "metadata": {
    "slideshow": {
     "slide_type": "slide"
    }
   },
   "source": [
    "# Deconvolution with $\\ell_1$ regularisation\n",
    "\n",
    "In general, we want to solve\n",
    "\n",
    "$$\\min_{u} \\frac{1}{2}\\|Ku - f^\\delta\\|_2^2 + \\alpha \\|Ru\\|_1.$$\n",
    "\n",
    "* the corresponding denoising problem is central to solving the deconvolution problem\n",
    "* .."
   ]
  },
  {
   "cell_type": "code",
   "execution_count": null,
   "metadata": {},
   "outputs": [],
   "source": []
  }
 ],
 "metadata": {
  "kernelspec": {
   "display_name": "Python 3",
   "language": "python",
   "name": "python3"
  },
  "language_info": {
   "codemirror_mode": {
    "name": "ipython",
    "version": 3
   },
   "file_extension": ".py",
   "mimetype": "text/x-python",
   "name": "python",
   "nbconvert_exporter": "python",
   "pygments_lexer": "ipython3",
   "version": "3.7.6"
  }
 },
 "nbformat": 4,
 "nbformat_minor": 4
}
