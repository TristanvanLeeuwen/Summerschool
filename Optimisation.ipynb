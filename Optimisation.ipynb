{
 "cells": [
  {
   "cell_type": "code",
   "execution_count": 2,
   "metadata": {
    "slideshow": {
     "slide_type": "slide"
    }
   },
   "outputs": [],
   "source": [
    "import numpy as np\n",
    "import matplotlib.pyplot as plt\n",
    "from skimage.color import rgb2gray\n",
    "from skimage import data\n",
    "from skimage.restoration import wiener, richardson_lucy, denoise_tv_chambolle\n",
    "from scipy.fft import fft2, ifft2\n",
    "\n",
    "# helper function for forward operator\n",
    "def K(inp,psf=[],mode='forward'):\n",
    "    n = inp.shape[0]\n",
    "    k_hat = fft2(psf,s=(n,n))\n",
    "    inp_hat = fft2(inp)\n",
    "    if mode == 'forward':\n",
    "        outp = ifft2(k_hat * inp_hat)\n",
    "    if mode == 'adjoint':\n",
    "        outp = ifft2(np.conj(k_hat) * inp_hat)\n",
    "    if mode == 'inv':\n",
    "        outp = ifft2( np.conj(k_hat) * inp_hat / ( np.conj(k_hat) * k_hat ) )\n",
    "        \n",
    "    return np.real(outp)\n",
    "\n",
    "# helper function for plotting\n",
    "def plot_images(images, titles, fname=[], scale = [0,1]):\n",
    "    m = len(images)\n",
    "    fig, ax = plt.subplots(1,m)\n",
    "    \n",
    "    if m > 1:\n",
    "        for k in range(m):\n",
    "            ax[k].set_xticks([])\n",
    "            ax[k].set_yticks([])\n",
    "            ax[k].imshow(images[k], cmap=plt.cm.gray, vmin=scale[0], vmax=scale[1])\n",
    "            ax[k].set_title(titles[k])\n",
    "    else:\n",
    "        ax.set_xticks([])\n",
    "        ax.set_yticks([])\n",
    "        ax.imshow(images[0], cmap=plt.cm.gray, vmin=scale[0], vmax=scale[1])\n",
    "        ax.set_title(titles[0])\n",
    "    fig.set_figwidth(10)\n",
    "    fig.tight_layout()\n",
    "    \n",
    "    if fname:\n",
    "        plt.savefig(fname,dpi=300)\n",
    "        \n",
    "def squares_image(n):\n",
    "    u = np.zeros((n,n))\n",
    "    u[n//6:n//6+n//2, n//6:n//6+n//2] = .5\n",
    "    u[2*n//3-n//6:2*n//3+n//6, 2*n//3-n//6:2*n//3+n//6] = 1\n",
    "    \n",
    "    return u\n",
    "\n",
    "def show_data(U,m,n):\n",
    "    fig, ax = plt.subplots(m,n)\n",
    "    k = 0\n",
    "    for i in range(m):\n",
    "        for j in range(n):\n",
    "            ax[i,j].imshow(U[k,:].reshape(8,8),cmap='gray')\n",
    "            ax[i,j].set_xticks([])\n",
    "            ax[i,j].set_yticks([])\n",
    "            k += 1\n",
    "    fig.tight_layout()"
   ]
  },
  {
   "cell_type": "markdown",
   "metadata": {
    "slideshow": {
     "slide_type": "slide"
    }
   },
   "source": [
    "# Deconvolution with $\\ell_1$ regularisation\n",
    "\n",
    "In general, we want to solve\n",
    "\n",
    "$$\\min_{u} \\frac{1}{2}\\|Ku - f^\\delta\\|_2^2 + \\alpha \\|Ru\\|_1.$$"
   ]
  },
  {
   "cell_type": "markdown",
   "metadata": {
    "slideshow": {
     "slide_type": "fragment"
    }
   },
   "source": [
    "* The corresponding denoising problem is central to solving the deconvolution problem"
   ]
  },
  {
   "cell_type": "markdown",
   "metadata": {
    "slideshow": {
     "slide_type": "slide"
    }
   },
   "source": [
    "# Proximal gradient - the recipe\n",
    "\n",
    "Solve \n",
    "$$\\min_u F(u) + G(u),$$\n",
    "\n",
    "by iterating\n",
    "\n",
    "$$v_{k+1} = u_k - \\lambda \\nabla F(u_k),$$\n",
    "$$u_{k+1} = \\text{arg}\\min_u \\textstyle{\\frac{1}{2}}\\|u - v_{k+1}\\|_2^2 + \\alpha \\|Ru\\|_1$$"
   ]
  },
  {
   "cell_type": "code",
   "execution_count": 3,
   "metadata": {
    "slideshow": {
     "slide_type": "subslide"
    }
   },
   "outputs": [],
   "source": [
    "def TV_decon(f, psf, alpha, lmbda, maxit = 100, tol=1e-3):\n",
    "    \"\"\"\n",
    "    TV deconvolution, solves: \n",
    "        \n",
    "        min_u 0.5\\|Ku - f\\|_2^2 + \\alpha TV(u)\n",
    "    \n",
    "    using a proximal gradient method.\n",
    "    \n",
    "    input:\n",
    "        f     - data, 2D array\n",
    "        psf   - psf to define forward operator K, 2D array\n",
    "        alpha - regularisation parameter, float\n",
    "        lmbda - stepsize for proximal gradient method, float\n",
    "        maxit - max. iteration count (default 100), integer\n",
    "        tol   - stopping tolerance (default 1e-3), float\n",
    "    \n",
    "    output:\n",
    "        u    - result, 2D array\n",
    "        hist - convergence history \\|u_{k} - u_{k-1}\\|, 1D array\n",
    "    \"\"\"\n",
    "    u = np.zeros(f.shape)\n",
    "    converged = False\n",
    "    hist = []\n",
    "    it = 0\n",
    "    while not converged:\n",
    "        r = K(u,psf,mode='forward') - f\n",
    "        v = u - lmbda*K(r,psf,mode='adjoint')\n",
    "        up = denoise_tv_chambolle(v, weight = lmbda*alpha, eps=1e-6, n_iter_max=5000)\n",
    "        \n",
    "        du = np.linalg.norm(u - up)\n",
    "        it += 1\n",
    "        \n",
    "        converged = (du <= tol) or (it >= maxit)\n",
    "        hist.append(du)\n",
    "        u = up\n",
    "    return u, np.array(hist)"
   ]
  },
  {
   "cell_type": "code",
   "execution_count": 13,
   "metadata": {
    "slideshow": {
     "slide_type": "subslide"
    }
   },
   "outputs": [
    {
     "data": {
      "image/png": "[encoded data removed]",
      "text/plain": [
       "<Figure size 720x288 with 3 Axes>"
      ]
     },
     "metadata": {},
     "output_type": "display_data"
    }
   ],
   "source": [
    "# make image\n",
    "n = 64\n",
    "u = squares_image(n)\n",
    "\n",
    "# apply forward operator\n",
    "psf = np.ones((10, 10)) / 100\n",
    "f = K(u,psf)\n",
    "\n",
    "# add_noise\n",
    "delta = 1e-1\n",
    "f_delta = f + delta * np.random.randn(n,n)\n",
    "\n",
    "# reconstruct\n",
    "alpha = 1e-3\n",
    "lmbda = .1\n",
    "maxit = 1000\n",
    "u_est, hist = TV_decon(f_delta, psf, alpha, lmbda, maxit)\n",
    "\n",
    "# plot\n",
    "plot_images([u, f_delta,u_est], [r'$u$', r'$f^\\delta$',r'$\\widetilde{u}$'])"
   ]
  },
  {
   "cell_type": "code",
   "execution_count": 12,
   "metadata": {
    "scrolled": true,
    "slideshow": {
     "slide_type": "subslide"
    }
   },
   "outputs": [
    {
     "data": {
      "image/png": "[encoded data removed]",
      "text/plain": [
       "<Figure size 432x288 with 1 Axes>"
      ]
     },
     "metadata": {
      "needs_background": "light"
     },
     "output_type": "display_data"
    }
   ],
   "source": [
    "plt.semilogy(hist)\n",
    "plt.xlabel('iteration')\n",
    "plt.ylabel('$||u_{k+1} - u_k||$')\n",
    "plt.show()"
   ]
  },
  {
   "cell_type": "markdown",
   "metadata": {
    "slideshow": {
     "slide_type": "slide"
    }
   },
   "source": [
    "# Proximal gradient - why does it work?\n",
    "\n",
    "* Smooth optimisation\n",
    "* Gradient descent\n",
    "* Proximal operators?"
   ]
  },
  {
   "cell_type": "markdown",
   "metadata": {
    "slideshow": {
     "slide_type": "subslide"
    }
   },
   "source": [
    "Solve\n",
    "\n",
    "$$\\min_{u} F(u) + G(u),$$\n",
    "\n",
    "with $F$ and $G$ smooth."
   ]
  },
  {
   "cell_type": "markdown",
   "metadata": {
    "slideshow": {
     "slide_type": "fragment"
    }
   },
   "source": [
    "* A minimiser $u_*$ satisfies the *optimality conditions* $$\\nabla F(u_*) + \\nabla G(u_*) = 0.$$\n",
    "* The solution is thus given by $$u_* = \\left(\\nabla F + \\nabla G\\right)^{-1}(0).$$"
   ]
  },
  {
   "cell_type": "markdown",
   "metadata": {
    "slideshow": {
     "slide_type": "subslide"
    }
   },
   "source": [
    "The *gradient-descent* method finds a minimiser by re-writing this as\n",
    "\n",
    "$$u_* - \\lambda \\left(\\nabla F(u_*) + \\nabla G(u_*)\\right) = u_*$$\n",
    "\n",
    "and employing a *fixed point* iteration\n",
    "$$u_{k+1} = u_k - \\lambda \\left(\\nabla F(u_k) + \\nabla G(u_k)\\right).$$"
   ]
  },
  {
   "cell_type": "markdown",
   "metadata": {
    "slideshow": {
     "slide_type": "subslide"
    }
   },
   "source": [
    "The *proximal-gradient* method uses an alternative form\n",
    "\n",
    "$$\\left(I + \\lambda \\nabla G\\right)^{-1}\\left(u_* - \\lambda F(u_*)\\right) = u_*,$$\n",
    "\n",
    "and iterates\n",
    "\n",
    "$$u_{k+1} = \\left(I + \\lambda \\nabla G\\right)^{-1}\\left(u_k - \\lambda F(u_k)\\right)$$"
   ]
  },
  {
   "cell_type": "markdown",
   "metadata": {
    "slideshow": {
     "slide_type": "subslide"
    }
   },
   "source": [
    "We call $\\left(I + \\lambda \\nabla G\\right)^{-1}$ the *proximal operator* of $\\lambda G$. We can compute it through:\n",
    "\n",
    "$$\\left(I + \\lambda \\nabla G\\right)^{-1}(v) = \\text{arg}\\min_u \\textstyle{\\frac{1}{2}}\\|u-v\\|_2^2 + \\lambda G(u).$$"
   ]
  },
  {
   "cell_type": "markdown",
   "metadata": {
    "slideshow": {
     "slide_type": "fragment"
    }
   },
   "source": [
    "Indeed, the solution to this problem satisfies\n",
    "\n",
    "$$\\left(I + \\lambda G\\right)(u_*) = v.$$"
   ]
  },
  {
   "cell_type": "markdown",
   "metadata": {
    "slideshow": {
     "slide_type": "slide"
    }
   },
   "source": [
    "## Assignment\n",
    "\n",
    "* Compare TV denoising to TV deconvolution on the blurry, noisy images\n",
    "* Implement other deconvolution with other filters (e.g., `skimage.restoration.denoise_nl_means`)"
   ]
  }
 ],
 "metadata": {
  "celltoolbar": "Slideshow",
  "kernelspec": {
   "display_name": "Python 3",
   "language": "python",
   "name": "python3"
  },
  "language_info": {
   "codemirror_mode": {
    "name": "ipython",
    "version": 3
   },
   "file_extension": ".py",
   "mimetype": "text/x-python",
   "name": "python",
   "nbconvert_exporter": "python",
   "pygments_lexer": "ipython3",
   "version": "3.7.6"
  }
 },
 "nbformat": 4,
 "nbformat_minor": 4
}
