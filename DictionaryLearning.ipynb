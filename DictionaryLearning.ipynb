{
 "cells": [
  {
   "cell_type": "markdown",
   "metadata": {
    "slideshow": {
     "slide_type": "slide"
    }
   },
   "source": [
    "# Dictionary learning\n",
    "\n",
    "* Some images may be naturally sparse under different linear transforms\n",
    "* We may not know a good transform, can we build one from a set of training images?"
   ]
  },
  {
   "cell_type": "markdown",
   "metadata": {
    "slideshow": {
     "slide_type": "subslide"
    }
   },
   "source": [
    "We need to solve\n",
    "\n",
    "$$\\min_{z, D} \\sum_{i=1}^m \\frac{1}{2}\\|Dz - u_i\\|_2^2 + \\alpha \\|z\\|_1,$$\n",
    "\n",
    "under suitable constraints on $D$."
   ]
  },
  {
   "cell_type": "code",
   "execution_count": 23,
   "metadata": {
    "slideshow": {
     "slide_type": "skip"
    }
   },
   "outputs": [],
   "source": [
    "from sklearn.decomposition import DictionaryLearning\n",
    "from sklearn.datasets import load_digits, make_sparse_coded_signal\n",
    "import matplotlib.pyplot as plt \n",
    "import numpy as np\n",
    "\n",
    "n_train = 100\n",
    "n_test = 50\n",
    "\n",
    "digits = load_digits()\n",
    "U_train = digits.data[:n_train]\n",
    "U_test = digits.data[n_train:n_train+n_test]"
   ]
  },
  {
   "cell_type": "code",
   "execution_count": 2,
   "metadata": {
    "slideshow": {
     "slide_type": "skip"
    }
   },
   "outputs": [],
   "source": [
    "def show_digits(U,m,n):\n",
    "    fig, ax = plt.subplots(m,n)\n",
    "    k = 0\n",
    "    for i in range(m):\n",
    "        for j in range(n):\n",
    "            ax[i,j].imshow(U[k,:].reshape(8,8),cmap='gray')\n",
    "            ax[i,j].set_xticks([])\n",
    "            ax[i,j].set_yticks([])\n",
    "            k += 1\n",
    "    fig.tight_layout()"
   ]
  },
  {
   "cell_type": "code",
   "execution_count": 3,
   "metadata": {},
   "outputs": [
    {
     "data": {
      "image/png": "[encoded data removed]",
      "text/plain": [
       "<Figure size 432x288 with 30 Axes>"
      ]
     },
     "metadata": {},
     "output_type": "display_data"
    }
   ],
   "source": [
    "show_digits(U_train[:30],3,10)"
   ]
  },
  {
   "cell_type": "code",
   "execution_count": 4,
   "metadata": {
    "slideshow": {
     "slide_type": "skip"
    }
   },
   "outputs": [],
   "source": [
    "# initialise dictionary learner\n",
    "dict_learner = DictionaryLearning(n_components=15, transform_algorithm='lasso_lars', random_state=42)\n",
    "\n",
    "# learn dictionary and fit\n",
    "Z_train = dict_learner.fit_transform(U_train)"
   ]
  },
  {
   "cell_type": "code",
   "execution_count": 10,
   "metadata": {
    "slideshow": {
     "slide_type": "skip"
    }
   },
   "outputs": [
    {
     "name": "stdout",
     "output_type": "stream",
     "text": [
      "NNZ: 5.6770833333333335e-05\n",
      "MSE: 0.038388440168770396\n"
     ]
    }
   ],
   "source": [
    "# compute sparsity level\n",
    "print('NNZ:', np.mean(Z_train == 0)/64/n_train)\n",
    "\n",
    "# compute training error (MSE)\n",
    "U_hat = Z_train @ dict_learner.components_\n",
    "print('MSE:', np.mean(np.sum((U_hat - U_train) ** 2, axis=1) / np.sum(U_train ** 2, axis=1)))"
   ]
  },
  {
   "cell_type": "code",
   "execution_count": 11,
   "metadata": {
    "scrolled": true,
    "slideshow": {
     "slide_type": "skip"
    }
   },
   "outputs": [
    {
     "data": {
      "image/png": "[encoded data removed]",
      "text/plain": [
       "<Figure size 432x288 with 15 Axes>"
      ]
     },
     "metadata": {},
     "output_type": "display_data"
    }
   ],
   "source": [
    "# plot dictionary elements\n",
    "show_digits(dict_learner.components_,3,5)"
   ]
  },
  {
   "cell_type": "code",
   "execution_count": 12,
   "metadata": {},
   "outputs": [
    {
     "name": "stdout",
     "output_type": "stream",
     "text": [
      "NNZ: 6.916666666666666e-05\n",
      "MSE: 0.05904831763475732\n"
     ]
    }
   ],
   "source": [
    "# compute testing error\n",
    "Z_test = dict_learner.transform(U_test)\n",
    "\n",
    "# compute sparsity level\n",
    "print('NNZ:', np.mean(Z_test == 0)/64/n_test)\n",
    "\n",
    "# compute training error (MSE)\n",
    "U_hat = Z_test @ dict_learner.components_\n",
    "print('MSE:', np.mean(np.sum((U_hat - U_test) ** 2, axis=1) / np.sum(U_test ** 2, axis=1)))"
   ]
  },
  {
   "cell_type": "markdown",
   "metadata": {
    "slideshow": {
     "slide_type": "subslide"
    }
   },
   "source": [
    "See https://scikit-learn.org/stable/auto_examples/decomposition/plot_image_denoising.html"
   ]
  },
  {
   "cell_type": "markdown",
   "metadata": {
    "slideshow": {
     "slide_type": "slide"
    }
   },
   "source": [
    "# Assignment: bias-variance\n",
    "\n",
    "* look at the bias variance trade-off when varying the size of the dictionary"
   ]
  },
  {
   "cell_type": "code",
   "execution_count": 118,
   "metadata": {
    "slideshow": {
     "slide_type": "skip"
    }
   },
   "outputs": [],
   "source": [
    "# generate training data\n",
    "n_train = 100\n",
    "n_test = 20\n",
    "U,_,_ = make_sparse_coded_signal(n_samples = n_train + n_test, n_components = 15, n_features = 20, n_nonzero_coefs = 10)\n",
    "U_train = np.copy(U[:,:n_train].T)\n",
    "U_test = np.copy(U[:,n_train:n_test+n_train].T)"
   ]
  },
  {
   "cell_type": "code",
   "execution_count": 137,
   "metadata": {
    "slideshow": {
     "slide_type": "skip"
    }
   },
   "outputs": [],
   "source": [
    "# helper functions for training and computing the emperical risk\n",
    "def train(U, k):\n",
    "    \n",
    "    # initialise dictionary learner\n",
    "    dict_learner = DictionaryLearning(n_components=k,transform_n_nonzero_coefs=10, random_state=42)\n",
    "\n",
    "    # learn dictionary\n",
    "    dict_learner.fit(U)\n",
    "    \n",
    "    #\n",
    "    return dict_learner\n",
    "\n",
    "def risk(D, U):\n",
    "    Z = D.transform(U)\n",
    "    Uh = Z @ D.components_\n",
    "    \n",
    "    return np.mean(np.sum((Uh - U) ** 2, axis=1))"
   ]
  },
  {
   "cell_type": "code",
   "execution_count": 138,
   "metadata": {
    "slideshow": {
     "slide_type": "skip"
    }
   },
   "outputs": [],
   "source": [
    "nc = 10\n",
    "K = np.linspace(10,50,nc,dtype=int)\n",
    "training_risk = np.zeros(nc)\n",
    "testing_risk = np.zeros(nc)\n",
    "\n",
    "for k in range(nc):\n",
    "    D = train(U_train,K[k])\n",
    "    training_risk[k] = risk(D, U_train)\n",
    "    testing_risk[k] = risk(D, U_test)\n"
   ]
  },
  {
   "cell_type": "code",
   "execution_count": 139,
   "metadata": {},
   "outputs": [
    {
     "data": {
      "text/plain": [
       "<matplotlib.legend.Legend at 0x1a1dfb8150>"
      ]
     },
     "execution_count": 139,
     "metadata": {},
     "output_type": "execute_result"
    },
    {
     "data": {
      "image/png": "[encoded data removed]",
      "text/plain": [
       "<Figure size 432x288 with 1 Axes>"
      ]
     },
     "metadata": {
      "needs_background": "light"
     },
     "output_type": "display_data"
    }
   ],
   "source": [
    "plt.plot(K,training_risk,label='training')\n",
    "plt.plot(K,testing_risk,label='testing')\n",
    "plt.legend()"
   ]
  },
  {
   "cell_type": "code",
   "execution_count": 144,
   "metadata": {},
   "outputs": [
    {
     "data": {
      "text/plain": [
       "array([10, 14, 18, 23, 27, 32, 36, 41, 45, 50])"
      ]
     },
     "execution_count": 144,
     "metadata": {},
     "output_type": "execute_result"
    }
   ],
   "source": [
    "np.linspace(10,50,10,dtype=int)"
   ]
  },
  {
   "cell_type": "code",
   "execution_count": null,
   "metadata": {},
   "outputs": [],
   "source": []
  }
 ],
 "metadata": {
  "celltoolbar": "Slideshow",
  "kernelspec": {
   "display_name": "Python (astra)",
   "language": "python",
   "name": "astra"
  },
  "language_info": {
   "codemirror_mode": {
    "name": "ipython",
    "version": 3
   },
   "file_extension": ".py",
   "mimetype": "text/x-python",
   "name": "python",
   "nbconvert_exporter": "python",
   "pygments_lexer": "ipython3",
   "version": "3.7.9"
  }
 },
 "nbformat": 4,
 "nbformat_minor": 4
}
